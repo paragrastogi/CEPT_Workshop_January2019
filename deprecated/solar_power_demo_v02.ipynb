{
 "cells": [
  {
   "cell_type": "markdown",
   "metadata": {},
   "source": [
    "# TMY to Power Tutorial\n",
    "\n",
    "## PVLIB toolbox\n",
    "\n",
    "Most of the code below is from the tmy_to_power notebook from the pvlib git repo.\n",
    "\n",
    "The original tutorial uses TMY data to obtain AC power using the SAPM (Sandia PV Model). We will use it to predict production from solar photovoltaic panels with random weather inputs. \n",
    "\n",
    "Table of contents:\n",
    "1. [Setup](#Setup)\n",
    "2. [Load TMY data](#Load-TMY-data)\n",
    "2. [Calculate modeling intermediates](#Calculate-modeling-intermediates)\n",
    "2. [DC power using SAPM](#DC-power-using-SAPM)\n",
    "2. [AC power using SAPM](#AC-power-using-SAPM)\n",
    "\n",
    "\n",
    "### Notes\n",
    "\n",
    "This tutorial has been tested against the following package versions:\n",
    "* pvlib 0.3.0\n",
    "* Python 2.7.10\n",
    "* IPython 3.2\n",
    "* pandas 0.16.2\n",
    "\n",
    "It should work with other Python and Pandas versions. It requires pvlib >= 0.3.0 and IPython >= 3.0.\n",
    "\n",
    "Original Authors:\n",
    "* Will Holmgren (@wholmgren), University of Arizona, July 2015, March 2016.\n",
    "* Rob Andrews (@Calama-Consulting), Heliolytics, June 2014"
   ]
  },
  {
   "cell_type": "markdown",
   "metadata": {},
   "source": [
    "## Setup"
   ]
  },
  {
   "cell_type": "markdown",
   "metadata": {},
   "source": [
    "These are just your standard interactive scientific python imports that you'll get very used to using."
   ]
  },
  {
   "cell_type": "code",
   "execution_count": 1,
   "metadata": {},
   "outputs": [],
   "source": [
    "# built-in python modules\n",
    "import os\n",
    "import inspect\n",
    "\n",
    "# scientific python add-ons\n",
    "import numpy as np\n",
    "import pandas as pd\n",
    "\n",
    "# plotting stuff\n",
    "# first line makes the plots appear in the notebook\n",
    "%matplotlib inline \n",
    "import matplotlib.pyplot as plt\n",
    "import matplotlib as mpl\n",
    "# seaborn makes your plots look better\n",
    "try:\n",
    "    import seaborn as sns\n",
    "    sns.set(rc={\"figure.figsize\": (12, 6)})\n",
    "    sns.set_color_codes()\n",
    "except ImportError:\n",
    "    print('We suggest you install seaborn using conda or pip and rerun this cell')\n",
    "\n",
    "# Import the pvlib library\n",
    "import pvlib\n",
    "\n",
    "# Import the file input-output module.\n",
    "import wfileio as wf"
   ]
  },
  {
   "cell_type": "markdown",
   "metadata": {},
   "source": [
    "## Load TMY data"
   ]
  },
  {
   "cell_type": "markdown",
   "metadata": {},
   "source": [
    "pvlib comes with a couple of TMY files, and we'll use one of them for simplicity. You could also load a file from disk, or specify a url. See this NREL website for a list of TMY files:\n",
    "\n",
    "http://rredc.nrel.gov/solar/old_data/nsrdb/1991-2005/tmy3/by_state_and_city.html"
   ]
  },
  {
   "cell_type": "code",
   "execution_count": 3,
   "metadata": {},
   "outputs": [
    {
     "name": "stdout",
     "output_type": "stream",
     "text": [
      "Found multiple years in file name, assigning 2223.\n",
      "[2002 2003 2005 2006 1996 2001]\n"
     ]
    }
   ],
   "source": [
    "# Find the absolute file path to your pvlib installation\n",
    "pvlib_abspath = os.path.dirname(os.path.abspath(inspect.getfile(pvlib)))\n",
    "\n",
    "# Path to a data file\n",
    "path_epw_ddn = '../India_Dehradun/IND_UT_Dehradun.421110_ISHRAE2014.epw'\n",
    "\n",
    "# The small program get_weather stores data from the incoming weather\n",
    "# file as a dataframe.\n",
    "tmy, locdata, header = wf.get_weather('ddn', path_epw_ddn)\n",
    "tmy.index.name = 'Time'\n",
    "\n",
    "# TMY data seems to be given as hourly data with time stamp at the end\n",
    "# shift the index 30 Minutes back for calculation of sun positions\n",
    "# tmy_data = tmy_data.shift(freq='-30Min')"
   ]
  },
  {
   "cell_type": "markdown",
   "metadata": {},
   "source": [
    "The file handling above looks complicated because we're trying to account for the many different ways that people will run this notebook on their systems. You can just put a simple string path into the ``readtmy3`` function if you know where the file is."
   ]
  },
  {
   "cell_type": "markdown",
   "metadata": {},
   "source": [
    "Let's look at the imported version of the TMY file."
   ]
  },
  {
   "cell_type": "code",
   "execution_count": 5,
   "metadata": {},
   "outputs": [
    {
     "data": {
      "text/html": [
       "<div>\n",
       "<style scoped>\n",
       "    .dataframe tbody tr th:only-of-type {\n",
       "        vertical-align: middle;\n",
       "    }\n",
       "\n",
       "    .dataframe tbody tr th {\n",
       "        vertical-align: top;\n",
       "    }\n",
       "\n",
       "    .dataframe thead th {\n",
       "        text-align: right;\n",
       "    }\n",
       "</style>\n",
       "<table border=\"1\" class=\"dataframe\">\n",
       "  <thead>\n",
       "    <tr style=\"text-align: right;\">\n",
       "      <th></th>\n",
       "      <th>year</th>\n",
       "      <th>month</th>\n",
       "      <th>day</th>\n",
       "      <th>hour</th>\n",
       "      <th>minute</th>\n",
       "      <th>qualflags</th>\n",
       "      <th>tdb</th>\n",
       "      <th>tdp</th>\n",
       "      <th>rh</th>\n",
       "      <th>atmpr</th>\n",
       "      <th>...</th>\n",
       "      <th>tsky</th>\n",
       "      <th>osky</th>\n",
       "      <th>vis</th>\n",
       "      <th>chgt</th>\n",
       "      <th>pwo</th>\n",
       "      <th>pwc</th>\n",
       "      <th>pwt</th>\n",
       "      <th>aopt</th>\n",
       "      <th>sdpt</th>\n",
       "      <th>slast</th>\n",
       "    </tr>\n",
       "    <tr>\n",
       "      <th>Time</th>\n",
       "      <th></th>\n",
       "      <th></th>\n",
       "      <th></th>\n",
       "      <th></th>\n",
       "      <th></th>\n",
       "      <th></th>\n",
       "      <th></th>\n",
       "      <th></th>\n",
       "      <th></th>\n",
       "      <th></th>\n",
       "      <th></th>\n",
       "      <th></th>\n",
       "      <th></th>\n",
       "      <th></th>\n",
       "      <th></th>\n",
       "      <th></th>\n",
       "      <th></th>\n",
       "      <th></th>\n",
       "      <th></th>\n",
       "      <th></th>\n",
       "      <th></th>\n",
       "    </tr>\n",
       "  </thead>\n",
       "  <tbody>\n",
       "    <tr>\n",
       "      <th>2223-01-01 00:00:00</th>\n",
       "      <td>2223</td>\n",
       "      <td>1</td>\n",
       "      <td>1</td>\n",
       "      <td>1</td>\n",
       "      <td>0.0</td>\n",
       "      <td>?9?9?9?9E0?9?9?9?9*9?9?9?9?9*9?9?9?9?9*_*9*9</td>\n",
       "      <td>6.7</td>\n",
       "      <td>4.7</td>\n",
       "      <td>87.0</td>\n",
       "      <td>94000.0</td>\n",
       "      <td>...</td>\n",
       "      <td>0.0</td>\n",
       "      <td>0.0</td>\n",
       "      <td>2.0</td>\n",
       "      <td>77777.0</td>\n",
       "      <td>9.0</td>\n",
       "      <td>999999999.0</td>\n",
       "      <td>129.0</td>\n",
       "      <td>0.0</td>\n",
       "      <td>0.0</td>\n",
       "      <td>88.0</td>\n",
       "    </tr>\n",
       "    <tr>\n",
       "      <th>2223-01-01 01:00:00</th>\n",
       "      <td>2223</td>\n",
       "      <td>1</td>\n",
       "      <td>1</td>\n",
       "      <td>2</td>\n",
       "      <td>0.0</td>\n",
       "      <td>?9?9?9?9E0?9?9?9?9*9?9?9?9?9*9?9?9?9?9*_*9*9</td>\n",
       "      <td>6.7</td>\n",
       "      <td>4.2</td>\n",
       "      <td>84.0</td>\n",
       "      <td>94000.0</td>\n",
       "      <td>...</td>\n",
       "      <td>0.0</td>\n",
       "      <td>0.0</td>\n",
       "      <td>2.0</td>\n",
       "      <td>77777.0</td>\n",
       "      <td>9.0</td>\n",
       "      <td>999999999.0</td>\n",
       "      <td>120.0</td>\n",
       "      <td>0.0</td>\n",
       "      <td>0.0</td>\n",
       "      <td>88.0</td>\n",
       "    </tr>\n",
       "    <tr>\n",
       "      <th>2223-01-01 02:00:00</th>\n",
       "      <td>2223</td>\n",
       "      <td>1</td>\n",
       "      <td>1</td>\n",
       "      <td>3</td>\n",
       "      <td>0.0</td>\n",
       "      <td>?9?9?9?9E0?9?9?9?9*9?9?9?9?9*9?9?9?9?9*_*9*9</td>\n",
       "      <td>6.1</td>\n",
       "      <td>3.7</td>\n",
       "      <td>85.0</td>\n",
       "      <td>94000.0</td>\n",
       "      <td>...</td>\n",
       "      <td>0.0</td>\n",
       "      <td>0.0</td>\n",
       "      <td>2.0</td>\n",
       "      <td>77777.0</td>\n",
       "      <td>9.0</td>\n",
       "      <td>999999999.0</td>\n",
       "      <td>120.0</td>\n",
       "      <td>0.0</td>\n",
       "      <td>0.0</td>\n",
       "      <td>88.0</td>\n",
       "    </tr>\n",
       "    <tr>\n",
       "      <th>2223-01-01 03:00:00</th>\n",
       "      <td>2223</td>\n",
       "      <td>1</td>\n",
       "      <td>1</td>\n",
       "      <td>4</td>\n",
       "      <td>0.0</td>\n",
       "      <td>?9?9?9?9E0?9?9?9?9*9?9?9?9?9*9?9?9?9?9*_*9*9</td>\n",
       "      <td>6.1</td>\n",
       "      <td>3.8</td>\n",
       "      <td>85.0</td>\n",
       "      <td>94000.0</td>\n",
       "      <td>...</td>\n",
       "      <td>0.0</td>\n",
       "      <td>0.0</td>\n",
       "      <td>2.0</td>\n",
       "      <td>77777.0</td>\n",
       "      <td>9.0</td>\n",
       "      <td>999999999.0</td>\n",
       "      <td>120.0</td>\n",
       "      <td>0.0</td>\n",
       "      <td>0.0</td>\n",
       "      <td>88.0</td>\n",
       "    </tr>\n",
       "    <tr>\n",
       "      <th>2223-01-01 04:00:00</th>\n",
       "      <td>2223</td>\n",
       "      <td>1</td>\n",
       "      <td>1</td>\n",
       "      <td>5</td>\n",
       "      <td>0.0</td>\n",
       "      <td>?9?9?9?9E0?9?9?9?9*9?9?9?9?9*9?9?9?9?9*_*9*9</td>\n",
       "      <td>5.6</td>\n",
       "      <td>3.3</td>\n",
       "      <td>85.0</td>\n",
       "      <td>94000.0</td>\n",
       "      <td>...</td>\n",
       "      <td>0.0</td>\n",
       "      <td>0.0</td>\n",
       "      <td>2.0</td>\n",
       "      <td>77777.0</td>\n",
       "      <td>9.0</td>\n",
       "      <td>999999999.0</td>\n",
       "      <td>120.0</td>\n",
       "      <td>0.0</td>\n",
       "      <td>0.0</td>\n",
       "      <td>88.0</td>\n",
       "    </tr>\n",
       "  </tbody>\n",
       "</table>\n",
       "<p>5 rows × 32 columns</p>\n",
       "</div>"
      ],
      "text/plain": [
       "                     year  month  day  hour  minute  \\\n",
       "Time                                                  \n",
       "2223-01-01 00:00:00  2223      1    1     1     0.0   \n",
       "2223-01-01 01:00:00  2223      1    1     2     0.0   \n",
       "2223-01-01 02:00:00  2223      1    1     3     0.0   \n",
       "2223-01-01 03:00:00  2223      1    1     4     0.0   \n",
       "2223-01-01 04:00:00  2223      1    1     5     0.0   \n",
       "\n",
       "                                                        qualflags  tdb  tdp  \\\n",
       "Time                                                                          \n",
       "2223-01-01 00:00:00  ?9?9?9?9E0?9?9?9?9*9?9?9?9?9*9?9?9?9?9*_*9*9  6.7  4.7   \n",
       "2223-01-01 01:00:00  ?9?9?9?9E0?9?9?9?9*9?9?9?9?9*9?9?9?9?9*_*9*9  6.7  4.2   \n",
       "2223-01-01 02:00:00  ?9?9?9?9E0?9?9?9?9*9?9?9?9?9*9?9?9?9?9*_*9*9  6.1  3.7   \n",
       "2223-01-01 03:00:00  ?9?9?9?9E0?9?9?9?9*9?9?9?9?9*9?9?9?9?9*_*9*9  6.1  3.8   \n",
       "2223-01-01 04:00:00  ?9?9?9?9E0?9?9?9?9*9?9?9?9?9*9?9?9?9?9*_*9*9  5.6  3.3   \n",
       "\n",
       "                       rh    atmpr  ...    tsky  osky  vis     chgt  pwo  \\\n",
       "Time                                ...                                    \n",
       "2223-01-01 00:00:00  87.0  94000.0  ...     0.0   0.0  2.0  77777.0  9.0   \n",
       "2223-01-01 01:00:00  84.0  94000.0  ...     0.0   0.0  2.0  77777.0  9.0   \n",
       "2223-01-01 02:00:00  85.0  94000.0  ...     0.0   0.0  2.0  77777.0  9.0   \n",
       "2223-01-01 03:00:00  85.0  94000.0  ...     0.0   0.0  2.0  77777.0  9.0   \n",
       "2223-01-01 04:00:00  85.0  94000.0  ...     0.0   0.0  2.0  77777.0  9.0   \n",
       "\n",
       "                             pwc    pwt  aopt  sdpt  slast  \n",
       "Time                                                        \n",
       "2223-01-01 00:00:00  999999999.0  129.0   0.0   0.0   88.0  \n",
       "2223-01-01 01:00:00  999999999.0  120.0   0.0   0.0   88.0  \n",
       "2223-01-01 02:00:00  999999999.0  120.0   0.0   0.0   88.0  \n",
       "2223-01-01 03:00:00  999999999.0  120.0   0.0   0.0   88.0  \n",
       "2223-01-01 04:00:00  999999999.0  120.0   0.0   0.0   88.0  \n",
       "\n",
       "[5 rows x 32 columns]"
      ]
     },
     "execution_count": 5,
     "metadata": {},
     "output_type": "execute_result"
    }
   ],
   "source": [
    "tmy.head()"
   ]
  },
  {
   "cell_type": "markdown",
   "metadata": {},
   "source": [
    "This is a ``pandas DataFrame`` object. It has a lot of great properties that are beyond the scope of our tutorials."
   ]
  },
  {
   "cell_type": "markdown",
   "metadata": {},
   "source": [
    "Plot the GHI data from the TMY file"
   ]
  },
  {
   "cell_type": "code",
   "execution_count": 6,
   "metadata": {},
   "outputs": [
    {
     "data": {
      "text/plain": [
       "Text(0, 0.5, 'Irradiance (W/m**2)')"
      ]
     },
     "execution_count": 6,
     "metadata": {},
     "output_type": "execute_result"
    },
    {
     "data": {
      "image/png": "[encoded data removed]",
      "text/plain": [
       "<Figure size 432x288 with 1 Axes>"
      ]
     },
     "metadata": {
      "needs_background": "light"
     },
     "output_type": "display_data"
    }
   ],
   "source": [
    "tmy['ghi'].plot()\n",
    "plt.ylabel('Irradiance (W/m**2)')"
   ]
  },
  {
   "cell_type": "markdown",
   "metadata": {},
   "source": [
    "## Calculate modeling intermediates"
   ]
  },
  {
   "cell_type": "markdown",
   "metadata": {},
   "source": [
    "Before we can calculate power for all times in the TMY file, we will need to calculate:\n",
    "* solar position \n",
    "* extra terrestrial radiation\n",
    "* airmass\n",
    "* angle of incidence\n",
    "* POA sky and ground diffuse radiation\n",
    "* cell and module temperatures"
   ]
  },
  {
   "cell_type": "markdown",
   "metadata": {},
   "source": [
    "First, define some PV system parameters."
   ]
  },
  {
   "cell_type": "code",
   "execution_count": 7,
   "metadata": {},
   "outputs": [
    {
     "name": "stdout",
     "output_type": "stream",
     "text": [
      "Location: \n",
      "  name: tmy_data\n",
      "  latitude: 30.320\n",
      "  longitude: 78.030\n",
      "  altitude: 682.0\n",
      "  tz: Asia/Calcutta\n",
      "<class 'str'>\n"
     ]
    }
   ],
   "source": [
    "surface_tilt = 30\n",
    "surface_azimuth = 180  # pvlib uses 0=North, 90=East, 180=South, 270=West convention\n",
    "albedo = 0.2\n",
    "\n",
    "# create pvlib Location object based on meta data\n",
    "sand_point = pvlib.location.Location(locdata['lat'], locdata['long'], tz='Asia/Calcutta', \n",
    "                                     altitude=locdata['alt'], name='tmy_data')\n",
    "print(sand_point)\n",
    "print(type(sand_point.latitude))"
   ]
  },
  {
   "cell_type": "markdown",
   "metadata": {},
   "source": [
    "### Solar position"
   ]
  },
  {
   "cell_type": "markdown",
   "metadata": {},
   "source": [
    "Calculate the solar position for all times in the TMY file. \n",
    "\n",
    "The default solar position algorithm is based on Reda and Andreas (2004). Our implementation is pretty fast, but you can make it even faster if you install [``numba``](http://numba.pydata.org/#installing) and use add  ``method='nrel_numba'`` to the function call below."
   ]
  },
  {
   "cell_type": "code",
   "execution_count": 9,
   "metadata": {},
   "outputs": [
    {
     "ename": "TypeError",
     "evalue": "ufunc 'add' did not contain a loop with signature matching types dtype('<U32') dtype('<U32') dtype('<U32')",
     "output_type": "error",
     "traceback": [
      "\u001b[1;31m---------------------------------------------------------------------------\u001b[0m",
      "\u001b[1;31mTypeError\u001b[0m                                 Traceback (most recent call last)",
      "\u001b[1;32m<ipython-input-9-90b2bfd46c7b>\u001b[0m in \u001b[0;36m<module>\u001b[1;34m\u001b[0m\n\u001b[1;32m----> 1\u001b[1;33m \u001b[0msolpos\u001b[0m \u001b[1;33m=\u001b[0m \u001b[0mpvlib\u001b[0m\u001b[1;33m.\u001b[0m\u001b[0msolarposition\u001b[0m\u001b[1;33m.\u001b[0m\u001b[0mget_solarposition\u001b[0m\u001b[1;33m(\u001b[0m\u001b[0mtmy\u001b[0m\u001b[1;33m.\u001b[0m\u001b[0mindex\u001b[0m\u001b[1;33m,\u001b[0m \u001b[0msand_point\u001b[0m\u001b[1;33m.\u001b[0m\u001b[0mlatitude\u001b[0m\u001b[1;33m,\u001b[0m \u001b[0msand_point\u001b[0m\u001b[1;33m.\u001b[0m\u001b[0mlongitude\u001b[0m\u001b[1;33m)\u001b[0m\u001b[1;33m\u001b[0m\u001b[1;33m\u001b[0m\u001b[0m\n\u001b[0m\u001b[0;32m      2\u001b[0m \u001b[1;33m\u001b[0m\u001b[0m\n\u001b[0;32m      3\u001b[0m \u001b[0msolpos\u001b[0m\u001b[1;33m.\u001b[0m\u001b[0mplot\u001b[0m\u001b[1;33m(\u001b[0m\u001b[1;33m)\u001b[0m\u001b[1;33m\u001b[0m\u001b[1;33m\u001b[0m\u001b[0m\n",
      "\u001b[1;32mc:\\program files\\python37\\lib\\site-packages\\pvlib\\solarposition.py\u001b[0m in \u001b[0;36mget_solarposition\u001b[1;34m(time, latitude, longitude, altitude, pressure, method, temperature, **kwargs)\u001b[0m\n\u001b[0;32m    101\u001b[0m         ephem_df = spa_python(time, latitude, longitude, altitude,\n\u001b[0;32m    102\u001b[0m                               \u001b[0mpressure\u001b[0m\u001b[1;33m,\u001b[0m \u001b[0mtemperature\u001b[0m\u001b[1;33m,\u001b[0m\u001b[1;33m\u001b[0m\u001b[1;33m\u001b[0m\u001b[0m\n\u001b[1;32m--> 103\u001b[1;33m                               how='numpy', **kwargs)\n\u001b[0m\u001b[0;32m    104\u001b[0m     \u001b[1;32melif\u001b[0m \u001b[0mmethod\u001b[0m \u001b[1;33m==\u001b[0m \u001b[1;34m'pyephem'\u001b[0m\u001b[1;33m:\u001b[0m\u001b[1;33m\u001b[0m\u001b[1;33m\u001b[0m\u001b[0m\n\u001b[0;32m    105\u001b[0m         ephem_df = pyephem(time, latitude, longitude,\n",
      "\u001b[1;32mc:\\program files\\python37\\lib\\site-packages\\pvlib\\solarposition.py\u001b[0m in \u001b[0;36mspa_python\u001b[1;34m(time, latitude, longitude, altitude, pressure, temperature, delta_t, atmos_refract, how, numthreads, **kwargs)\u001b[0m\n\u001b[0;32m    346\u001b[0m     \u001b[0mapp_zenith\u001b[0m\u001b[1;33m,\u001b[0m \u001b[0mzenith\u001b[0m\u001b[1;33m,\u001b[0m \u001b[0mapp_elevation\u001b[0m\u001b[1;33m,\u001b[0m \u001b[0melevation\u001b[0m\u001b[1;33m,\u001b[0m \u001b[0mazimuth\u001b[0m\u001b[1;33m,\u001b[0m \u001b[0meot\u001b[0m \u001b[1;33m=\u001b[0m\u001b[0;31m \u001b[0m\u001b[0;31m\\\u001b[0m\u001b[1;33m\u001b[0m\u001b[1;33m\u001b[0m\u001b[0m\n\u001b[0;32m    347\u001b[0m         spa.solar_position(unixtime, lat, lon, elev, pressure, temperature,\n\u001b[1;32m--> 348\u001b[1;33m                            delta_t, atmos_refract, numthreads)\n\u001b[0m\u001b[0;32m    349\u001b[0m \u001b[1;33m\u001b[0m\u001b[0m\n\u001b[0;32m    350\u001b[0m     result = pd.DataFrame({'apparent_zenith': app_zenith, 'zenith': zenith,\n",
      "\u001b[1;32mc:\\program files\\python37\\lib\\site-packages\\pvlib\\spa.py\u001b[0m in \u001b[0;36msolar_position\u001b[1;34m(unixtime, lat, lon, elev, pressure, temp, delta_t, atmos_refract, numthreads, sst, esd)\u001b[0m\n\u001b[0;32m   1147\u001b[0m     result = do_calc(unixtime, lat, lon, elev, pressure,\n\u001b[0;32m   1148\u001b[0m                      \u001b[0mtemp\u001b[0m\u001b[1;33m,\u001b[0m \u001b[0mdelta_t\u001b[0m\u001b[1;33m,\u001b[0m \u001b[0matmos_refract\u001b[0m\u001b[1;33m,\u001b[0m \u001b[0mnumthreads\u001b[0m\u001b[1;33m,\u001b[0m\u001b[1;33m\u001b[0m\u001b[1;33m\u001b[0m\u001b[0m\n\u001b[1;32m-> 1149\u001b[1;33m                      sst, esd)\n\u001b[0m\u001b[0;32m   1150\u001b[0m \u001b[1;33m\u001b[0m\u001b[0m\n\u001b[0;32m   1151\u001b[0m     \u001b[1;32mif\u001b[0m \u001b[1;32mnot\u001b[0m \u001b[0misinstance\u001b[0m\u001b[1;33m(\u001b[0m\u001b[0mresult\u001b[0m\u001b[1;33m,\u001b[0m \u001b[0mnp\u001b[0m\u001b[1;33m.\u001b[0m\u001b[0mndarray\u001b[0m\u001b[1;33m)\u001b[0m\u001b[1;33m:\u001b[0m\u001b[1;33m\u001b[0m\u001b[1;33m\u001b[0m\u001b[0m\n",
      "\u001b[1;32mc:\\program files\\python37\\lib\\site-packages\\pvlib\\spa.py\u001b[0m in \u001b[0;36msolar_position_numpy\u001b[1;34m(unixtime, lat, lon, elev, pressure, temp, delta_t, atmos_refract, numthreads, sst, esd)\u001b[0m\n\u001b[0;32m   1053\u001b[0m     \u001b[0mm\u001b[0m \u001b[1;33m=\u001b[0m \u001b[0msun_mean_longitude\u001b[0m\u001b[1;33m(\u001b[0m\u001b[0mjme\u001b[0m\u001b[1;33m)\u001b[0m\u001b[1;33m\u001b[0m\u001b[1;33m\u001b[0m\u001b[0m\n\u001b[0;32m   1054\u001b[0m     \u001b[0meot\u001b[0m \u001b[1;33m=\u001b[0m \u001b[0mequation_of_time\u001b[0m\u001b[1;33m(\u001b[0m\u001b[0mm\u001b[0m\u001b[1;33m,\u001b[0m \u001b[0malpha\u001b[0m\u001b[1;33m,\u001b[0m \u001b[0mdelta_psi\u001b[0m\u001b[1;33m,\u001b[0m \u001b[0mepsilon\u001b[0m\u001b[1;33m)\u001b[0m\u001b[1;33m\u001b[0m\u001b[1;33m\u001b[0m\u001b[0m\n\u001b[1;32m-> 1055\u001b[1;33m     \u001b[0mH\u001b[0m \u001b[1;33m=\u001b[0m \u001b[0mlocal_hour_angle\u001b[0m\u001b[1;33m(\u001b[0m\u001b[0mv\u001b[0m\u001b[1;33m,\u001b[0m \u001b[0mlon\u001b[0m\u001b[1;33m,\u001b[0m \u001b[0malpha\u001b[0m\u001b[1;33m)\u001b[0m\u001b[1;33m\u001b[0m\u001b[1;33m\u001b[0m\u001b[0m\n\u001b[0m\u001b[0;32m   1056\u001b[0m     \u001b[0mxi\u001b[0m \u001b[1;33m=\u001b[0m \u001b[0mequatorial_horizontal_parallax\u001b[0m\u001b[1;33m(\u001b[0m\u001b[0mR\u001b[0m\u001b[1;33m)\u001b[0m\u001b[1;33m\u001b[0m\u001b[1;33m\u001b[0m\u001b[0m\n\u001b[0;32m   1057\u001b[0m     \u001b[0mu\u001b[0m \u001b[1;33m=\u001b[0m \u001b[0muterm\u001b[0m\u001b[1;33m(\u001b[0m\u001b[0mlat\u001b[0m\u001b[1;33m)\u001b[0m\u001b[1;33m\u001b[0m\u001b[1;33m\u001b[0m\u001b[0m\n",
      "\u001b[1;32mc:\\program files\\python37\\lib\\site-packages\\pvlib\\spa.py\u001b[0m in \u001b[0;36mlocal_hour_angle\u001b[1;34m(apparent_sidereal_time, observer_longitude, sun_right_ascension)\u001b[0m\n\u001b[0;32m    733\u001b[0m                      sun_right_ascension):\n\u001b[0;32m    734\u001b[0m     \u001b[1;34m\"\"\"Measured westward from south\"\"\"\u001b[0m\u001b[1;33m\u001b[0m\u001b[1;33m\u001b[0m\u001b[0m\n\u001b[1;32m--> 735\u001b[1;33m     \u001b[0mH\u001b[0m \u001b[1;33m=\u001b[0m \u001b[0mapparent_sidereal_time\u001b[0m \u001b[1;33m+\u001b[0m \u001b[0mobserver_longitude\u001b[0m \u001b[1;33m-\u001b[0m \u001b[0msun_right_ascension\u001b[0m\u001b[1;33m\u001b[0m\u001b[1;33m\u001b[0m\u001b[0m\n\u001b[0m\u001b[0;32m    736\u001b[0m     \u001b[1;32mreturn\u001b[0m \u001b[0mH\u001b[0m \u001b[1;33m%\u001b[0m \u001b[1;36m360\u001b[0m\u001b[1;33m\u001b[0m\u001b[1;33m\u001b[0m\u001b[0m\n\u001b[0;32m    737\u001b[0m \u001b[1;33m\u001b[0m\u001b[0m\n",
      "\u001b[1;31mTypeError\u001b[0m: ufunc 'add' did not contain a loop with signature matching types dtype('<U32') dtype('<U32') dtype('<U32')"
     ]
    }
   ],
   "source": [
    "solpos = pvlib.solarposition.get_solarposition(tmy.index, sand_point.latitude, sand_point.longitude)\n",
    "\n",
    "solpos.plot()"
   ]
  },
  {
   "cell_type": "markdown",
   "metadata": {},
   "source": [
    "The funny looking jump in the azimuth is just due to the coarse time sampling in the TMY file."
   ]
  },
  {
   "cell_type": "markdown",
   "metadata": {},
   "source": [
    "### DNI ET\n",
    "\n",
    "Calculate extra terrestrial radiation. This is needed for many plane of array diffuse irradiance models."
   ]
  },
  {
   "cell_type": "code",
   "execution_count": null,
   "metadata": {},
   "outputs": [],
   "source": [
    "# the extraradiation function returns a simple numpy array\n",
    "# instead of a nice pandas series. We will change this\n",
    "# in a future version\n",
    "dni_extra = pvlib.irradiance.extraradiation(tmy_data.index)\n",
    "dni_extra = pd.Series(dni_extra, index=tmy_data.index)\n",
    "\n",
    "dni_extra.plot()\n",
    "plt.ylabel('Extra terrestrial radiation (W/m**2)')"
   ]
  },
  {
   "cell_type": "markdown",
   "metadata": {},
   "source": [
    "### Airmass\n",
    "\n",
    "Calculate airmass. Lots of model options here, see the ``atmosphere`` module tutorial for more details."
   ]
  },
  {
   "cell_type": "code",
   "execution_count": null,
   "metadata": {},
   "outputs": [],
   "source": [
    "airmass = pvlib.atmosphere.relativeairmass(solpos['apparent_zenith'])\n",
    "\n",
    "plt.plot(airmass.iloc[0:72])\n",
    "# airmass.plot()\n",
    "plt.ylabel('Airmass')"
   ]
  },
  {
   "cell_type": "markdown",
   "metadata": {},
   "source": [
    "The funny appearance is due to aliasing and setting invalid numbers equal to ``NaN``. Replot just a day or two and you'll see that the numbers are right."
   ]
  },
  {
   "cell_type": "markdown",
   "metadata": {},
   "source": [
    "### POA sky diffuse"
   ]
  },
  {
   "cell_type": "markdown",
   "metadata": {},
   "source": [
    "Use the Hay Davies model to calculate the plane of array diffuse sky radiation. See the ``irradiance`` module tutorial for comparisons of different models."
   ]
  },
  {
   "cell_type": "code",
   "execution_count": null,
   "metadata": {},
   "outputs": [],
   "source": [
    "poa_sky_diffuse = pvlib.irradiance.haydavies(surface_tilt, surface_azimuth,\n",
    "                                             tmy_data['dhi'], tmy_data['dni'], dni_extra,\n",
    "                                             solpos['apparent_zenith'], solpos['azimuth'])\n",
    "\n",
    "# There are some numerical errors in the sky diffuse calculation where the value spikes.\n",
    "# We take the quantities that are larger than the ambient sky diffuse radiation and interpolate them. \n",
    "poa_sky_diffuse[poa_sky_diffuse > tmy_data.dhi] = np.NaN\n",
    "poa_sky_diffuse = poa_sky_diffuse.interpolate(method='time')\n",
    "\n",
    "poa_sky_diffuse.plot()\n",
    "plt.ylabel('Irradiance (W/m**2)')"
   ]
  },
  {
   "cell_type": "markdown",
   "metadata": {},
   "source": [
    "### POA ground diffuse\n",
    "\n",
    "Calculate ground diffuse. We specified the albedo above. You could have also provided a string to the ``surface_type`` keyword argument."
   ]
  },
  {
   "cell_type": "code",
   "execution_count": null,
   "metadata": {},
   "outputs": [],
   "source": [
    "poa_ground_diffuse = pvlib.irradiance.grounddiffuse(surface_tilt, tmy_data['ghi'], albedo=albedo)\n",
    "\n",
    "poa_ground_diffuse.plot()\n",
    "plt.ylabel('Irradiance (W/m**2)')"
   ]
  },
  {
   "cell_type": "markdown",
   "metadata": {},
   "source": [
    "### AOI\n",
    "\n",
    "Calculate AOI"
   ]
  },
  {
   "cell_type": "code",
   "execution_count": null,
   "metadata": {},
   "outputs": [],
   "source": [
    "aoi = pvlib.irradiance.aoi(surface_tilt, surface_azimuth, solpos['apparent_zenith'], solpos['azimuth'])\n",
    "\n",
    "aoi.plot()\n",
    "plt.ylabel('Angle of incidence (deg)')"
   ]
  },
  {
   "cell_type": "markdown",
   "metadata": {},
   "source": [
    "Note that AOI has values greater than 90 deg. This is ok."
   ]
  },
  {
   "cell_type": "markdown",
   "metadata": {},
   "source": [
    "### POA total\n",
    "\n",
    "Calculate POA irradiance"
   ]
  },
  {
   "cell_type": "code",
   "execution_count": null,
   "metadata": {},
   "outputs": [],
   "source": [
    "poa_irrad = pvlib.irradiance.globalinplane(aoi, tmy_data['dni'], poa_sky_diffuse, poa_ground_diffuse)\n",
    "\n",
    "poa_irrad.plot()\n",
    "plt.ylabel('Irradiance (W/m**2)')\n",
    "plt.title('POA Irradiance')"
   ]
  },
  {
   "cell_type": "markdown",
   "metadata": {},
   "source": [
    "### Cell and module temperature\n",
    "\n",
    "Calculate pv cell and module temperature"
   ]
  },
  {
   "cell_type": "code",
   "execution_count": null,
   "metadata": {},
   "outputs": [],
   "source": [
    "pvtemps = pvlib.pvsystem.sapm_celltemp(poa_irrad['poa_global'], tmy_data['wspd'], tmy_data['tdb'])\n",
    "\n",
    "pvtemps.plot()\n",
    "plt.ylabel('Temperature (degC)')"
   ]
  },
  {
   "cell_type": "markdown",
   "metadata": {},
   "source": [
    "## DC power using SAPM"
   ]
  },
  {
   "cell_type": "markdown",
   "metadata": {},
   "source": [
    "Get module data from the web."
   ]
  },
  {
   "cell_type": "code",
   "execution_count": null,
   "metadata": {},
   "outputs": [],
   "source": [
    "sandia_modules = pvlib.pvsystem.retrieve_sam(name='SandiaMod')"
   ]
  },
  {
   "cell_type": "markdown",
   "metadata": {},
   "source": [
    "Choose a particular module"
   ]
  },
  {
   "cell_type": "code",
   "execution_count": null,
   "metadata": {},
   "outputs": [],
   "source": [
    "sandia_module = sandia_modules.Canadian_Solar_CS5P_220M___2009_\n",
    "sandia_module"
   ]
  },
  {
   "cell_type": "markdown",
   "metadata": {},
   "source": [
    "Calculate the effective irradiance"
   ]
  },
  {
   "cell_type": "code",
   "execution_count": null,
   "metadata": {},
   "outputs": [],
   "source": [
    "effective_irradiance = pvlib.pvsystem.sapm_effective_irradiance(poa_irrad.poa_direct, poa_irrad.poa_diffuse, airmass, aoi, sandia_module)"
   ]
  },
  {
   "cell_type": "markdown",
   "metadata": {},
   "source": [
    "Run the SAPM using the parameters we calculated above."
   ]
  },
  {
   "cell_type": "code",
   "execution_count": null,
   "metadata": {},
   "outputs": [],
   "source": [
    "sapm_out = pvlib.pvsystem.sapm(effective_irradiance, pvtemps.temp_cell, sandia_module)\n",
    "print(sapm_out.head())\n",
    "\n",
    "sapm_out[['p_mp']].plot()\n",
    "plt.ylabel('DC Power (W)')"
   ]
  },
  {
   "cell_type": "markdown",
   "metadata": {},
   "source": [
    "## DC power using single diode"
   ]
  },
  {
   "cell_type": "code",
   "execution_count": null,
   "metadata": {},
   "outputs": [],
   "source": [
    "cec_modules = pvlib.pvsystem.retrieve_sam(name='CECMod')\n",
    "cec_module = cec_modules.Canadian_Solar_CS5P_220M"
   ]
  },
  {
   "cell_type": "code",
   "execution_count": null,
   "metadata": {},
   "outputs": [],
   "source": [
    "photocurrent, saturation_current, resistance_series, resistance_shunt, nNsVth = (\n",
    "    pvlib.pvsystem.calcparams_desoto(poa_irrad.poa_global,\n",
    "                                 temp_cell=pvtemps['temp_cell'],\n",
    "                                 alpha_isc=cec_module['alpha_sc'],\n",
    "                                 module_parameters=cec_module,\n",
    "                                 EgRef=1.121,\n",
    "                                 dEgdT=-0.0002677) )"
   ]
  },
  {
   "cell_type": "code",
   "execution_count": null,
   "metadata": {},
   "outputs": [],
   "source": [
    "single_diode_out = pvlib.pvsystem.singlediode(photocurrent, saturation_current,\n",
    "                                              resistance_series, resistance_shunt, nNsVth)"
   ]
  },
  {
   "cell_type": "code",
   "execution_count": null,
   "metadata": {},
   "outputs": [],
   "source": [
    "single_diode_out[['p_mp']].plot()\n",
    "plt.ylabel('DC Power (W)')"
   ]
  },
  {
   "cell_type": "markdown",
   "metadata": {},
   "source": [
    "## AC power using SAPM"
   ]
  },
  {
   "cell_type": "markdown",
   "metadata": {},
   "source": [
    "Get the inverter database from the web"
   ]
  },
  {
   "cell_type": "code",
   "execution_count": null,
   "metadata": {},
   "outputs": [],
   "source": [
    "sapm_inverters = pvlib.pvsystem.retrieve_sam('sandiainverter')"
   ]
  },
  {
   "cell_type": "markdown",
   "metadata": {},
   "source": [
    "Choose a particular inverter"
   ]
  },
  {
   "cell_type": "code",
   "execution_count": null,
   "metadata": {},
   "outputs": [],
   "source": [
    "sapm_inverter = sapm_inverters['ABB__MICRO_0_25_I_OUTD_US_208_208V__CEC_2014_']\n",
    "sapm_inverter"
   ]
  },
  {
   "cell_type": "code",
   "execution_count": null,
   "metadata": {},
   "outputs": [],
   "source": [
    "p_acs = pd.DataFrame()\n",
    "p_acs['sapm'] = pvlib.pvsystem.snlinverter(sapm_out.v_mp, sapm_out.p_mp, sapm_inverter)\n",
    "p_acs['sd'] = pvlib.pvsystem.snlinverter(single_diode_out.v_mp, single_diode_out.p_mp, sapm_inverter)\n",
    "\n",
    "mask = p_acs['sapm'] < 0\n",
    "p_acs.loc[mask, 'sapm'] = 0\n",
    "\n",
    "mask = p_acs['sd'] < 0\n",
    "p_acs.loc[mask, 'sd'] = 0\n",
    "\n",
    "p_acs.plot()\n",
    "plt.ylabel('AC Power (W)')"
   ]
  },
  {
   "cell_type": "code",
   "execution_count": null,
   "metadata": {},
   "outputs": [],
   "source": [
    "diff = p_acs['sapm'] - p_acs['sd']\n",
    "diff.plot()\n",
    "plt.ylabel('SAPM - SD Power (W)')"
   ]
  },
  {
   "cell_type": "markdown",
   "metadata": {},
   "source": [
    "Plot just a few days."
   ]
  },
  {
   "cell_type": "code",
   "execution_count": null,
   "metadata": {},
   "outputs": [],
   "source": [
    "p_acs['2017-07-05':'2017-07-06'].plot()"
   ]
  },
  {
   "cell_type": "markdown",
   "metadata": {},
   "source": [
    "Some statistics on the AC power"
   ]
  },
  {
   "cell_type": "code",
   "execution_count": null,
   "metadata": {},
   "outputs": [],
   "source": [
    "p_acs.describe()"
   ]
  },
  {
   "cell_type": "code",
   "execution_count": null,
   "metadata": {},
   "outputs": [],
   "source": [
    "p_acs.sum()"
   ]
  },
  {
   "cell_type": "code",
   "execution_count": null,
   "metadata": {},
   "outputs": [],
   "source": [
    "# create data for a y=x line\n",
    "p_ac_max = p_acs.max().max()\n",
    "yxline = np.arange(0, p_ac_max)\n",
    "\n",
    "fig = plt.figure(figsize=(12,12))\n",
    "ax = fig.add_subplot(111, aspect='equal')\n",
    "sc = ax.scatter(p_acs['sd'], p_acs['sapm'], c=poa_irrad.poa_global, alpha=1, cmap=mpl.cm.YlGnBu_r)  \n",
    "ax.plot(yxline, yxline, 'r', linewidth=3)\n",
    "ax.set_xlim(0, None)\n",
    "ax.set_ylim(0, None)\n",
    "ax.set_xlabel('Single Diode model')\n",
    "ax.set_ylabel('Sandia model')\n",
    "fig.colorbar(sc, label='POA Global (W/m**2)')"
   ]
  },
  {
   "cell_type": "markdown",
   "metadata": {},
   "source": [
    "We can change the value of color value ``c`` to see the sensitivity of model accuracy to measured meterological conditions. It can be useful to define a simple plotting function for this kind of exploratory analysis."
   ]
  },
  {
   "cell_type": "code",
   "execution_count": null,
   "metadata": {},
   "outputs": [],
   "source": [
    "def sapm_sd_scatter(c_data, label=None, **kwargs):\n",
    "    \"\"\"Display a scatter plot of SAPM p_ac vs. single diode p_ac.\n",
    "    \n",
    "    You need to re-execute this cell if you re-run the p_ac calculation.\n",
    "    \n",
    "    Parameters\n",
    "    ----------\n",
    "    c_data : array-like\n",
    "        Determines the color of each point on the scatter plot.\n",
    "        Must be same length as p_acs.\n",
    "        \n",
    "    kwargs passed to ``scatter``.\n",
    "    \n",
    "    Returns\n",
    "    -------\n",
    "    tuple of fig, ax objects\n",
    "    \"\"\"\n",
    "    \n",
    "    fig = plt.figure(figsize=(12,12))\n",
    "    ax = fig.add_subplot(111, aspect='equal')\n",
    "    sc = ax.scatter(p_acs['sd'], p_acs['sapm'], c=c_data, alpha=1, cmap=mpl.cm.YlGnBu_r, **kwargs)  \n",
    "    ax.plot(yxline, yxline, 'r', linewidth=3)\n",
    "    ax.set_xlim(0, None)\n",
    "    ax.set_ylim(0, None)\n",
    "    ax.set_xlabel('Single diode model power (W)')\n",
    "    ax.set_ylabel('Sandia model power (W)')\n",
    "    fig.colorbar(sc, label='{}'.format(label), shrink=0.75)\n",
    "    \n",
    "    return fig, ax"
   ]
  },
  {
   "cell_type": "code",
   "execution_count": null,
   "metadata": {},
   "outputs": [],
   "source": [
    "sapm_sd_scatter(tmy_data.tdb, label='Temperature (deg C)')"
   ]
  },
  {
   "cell_type": "code",
   "execution_count": null,
   "metadata": {},
   "outputs": [],
   "source": [
    "sapm_sd_scatter(tmy_data.dni, label='DNI (W/m**2)')"
   ]
  },
  {
   "cell_type": "code",
   "execution_count": null,
   "metadata": {},
   "outputs": [],
   "source": [
    "# sapm_sd_scatter(tmy_data.AOD, label='AOD')"
   ]
  },
  {
   "cell_type": "code",
   "execution_count": null,
   "metadata": {},
   "outputs": [],
   "source": [
    "sapm_sd_scatter(tmy_data.wspd, label='Wind speed', vmax=10)"
   ]
  },
  {
   "cell_type": "markdown",
   "metadata": {},
   "source": [
    "Notice the use of the ``vmax`` keyword argument in the above example. The ``**kwargs`` pattern allows us to easily pass non-specified arguments to nested functions."
   ]
  },
  {
   "cell_type": "code",
   "execution_count": null,
   "metadata": {},
   "outputs": [],
   "source": [
    "def sapm_other_scatter(c_data, x_data, clabel=None, xlabel=None, aspect_equal=False, **kwargs):\n",
    "    \"\"\"Display a scatter plot of SAPM p_ac vs. something else.\n",
    "    \n",
    "    You need to re-execute this cell if you re-run the p_ac calculation.\n",
    "    \n",
    "    Parameters\n",
    "    ----------\n",
    "    c_data : array-like\n",
    "        Determines the color of each point on the scatter plot.\n",
    "        Must be same length as p_acs.\n",
    "    x_data : array-like\n",
    "        \n",
    "    kwargs passed to ``scatter``.\n",
    "    \n",
    "    Returns\n",
    "    -------\n",
    "    tuple of fig, ax objects\n",
    "    \"\"\"\n",
    "    \n",
    "    fig = plt.figure(figsize=(12,12))\n",
    "    \n",
    "    if aspect_equal:\n",
    "        ax = fig.add_subplot(111, aspect='equal')\n",
    "    else:\n",
    "        ax = fig.add_subplot(111)\n",
    "    sc = ax.scatter(x_data, p_acs['sapm'], c=c_data, alpha=1, cmap=mpl.cm.YlGnBu_r, **kwargs)  \n",
    "    ax.set_xlim(0, None)\n",
    "    ax.set_ylim(0, None)\n",
    "    ax.set_xlabel('{}'.format(xlabel))\n",
    "    ax.set_ylabel('Sandia model power (W)')\n",
    "    fig.colorbar(sc, label='{}'.format(clabel), shrink=0.75)\n",
    "    \n",
    "    return fig, ax"
   ]
  },
  {
   "cell_type": "code",
   "execution_count": null,
   "metadata": {},
   "outputs": [],
   "source": [
    "sapm_other_scatter(tmy_data.tdb, tmy_data.ghi, clabel='Temperature (deg C)', xlabel='GHI (W/m**2)')"
   ]
  }
 ],
 "metadata": {
  "kernelspec": {
   "display_name": "Python 3",
   "language": "python",
   "name": "python3"
  },
  "language_info": {
   "codemirror_mode": {
    "name": "ipython",
    "version": 3
   },
   "file_extension": ".py",
   "mimetype": "text/x-python",
   "name": "python",
   "nbconvert_exporter": "python",
   "pygments_lexer": "ipython3",
   "version": "3.7.1"
  }
 },
 "nbformat": 4,
 "nbformat_minor": 1
}
