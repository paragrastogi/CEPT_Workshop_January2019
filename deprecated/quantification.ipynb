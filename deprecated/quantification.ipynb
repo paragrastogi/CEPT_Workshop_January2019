{
 "cells": [
  {
   "cell_type": "markdown",
   "metadata": {},
   "source": [
    "<h1> How I learned to stop worrying and love uncertainty </h1>\n",
    "\n",
    "An introductory workshop on quantifying uncertainty in building simulation.\n",
    "\n",
    "<b>author</b>: Parag Rastogi; <b>venue</b>: CEPT University, Ahmedabad; <b>date</b>: 05-06 January, 2019.\n",
    "\n",
    "Run each module one-by-one by either using the <kbd>run cell</kbd> button above or pressing <kbd>Ctrl + Enter</kbd> when a cell is selected. Modules like this one are `Markdown` modules, which is a kind of text-encoding language. These will not produce an output - instead you will see formatted text in the cell when you run one.\n"
   ]
  },
  {
   "cell_type": "markdown",
   "metadata": {},
   "source": [
    "<h2>Types of uncertainty and exercises</h2>\n",
    "\n",
    "The uncertainty in inputs can be separated into two types:\n",
    "\n",
    "<ol>\n",
    "    <li> Epistemic - lack of knowledge\n",
    "    <li> Aleatory - inherent randomness\n",
    "</ol>\n",
    "\n",
    "In general, epistemic uncertainty can be reduced with better knowledge but aleatory cannot. Sometimes natural phenomena that appear aleatory, as in, inherently random, may not be so; it could just be that our lack of knowledge about these phenomena makes them seem random. The climate is a good example of this.\n",
    "\n",
    "<strong>Exercise: Write down two examples of epistemic and aleatory uncertainty related to building simulation, performance, or design.</strong>\n",
    "\n",
    "============================================================================================================"
   ]
  },
  {
   "cell_type": "markdown",
   "metadata": {},
   "source": [
    "In this exercise we will use a regression model (black-box model) to estimate the response of a building. We will do an exercise related to epistemic uncertainty and one related to aleatory. The rest of the workshop is structured as follows:\n",
    "\n",
    "<ol>\n",
    "    <li> Loading python modules and weather files.\n",
    "    <li> Black-box models.\n",
    "    <li> Epistemic uncertainty with black-box models.\n",
    "    <li> Aleatory uncertainty with black-box models.\n",
    "</ol>"
   ]
  },
  {
   "cell_type": "code",
   "execution_count": 1,
   "metadata": {},
   "outputs": [],
   "source": [
    "# Import various standard modules.\n",
    "# os gives you access to various functions related to the file system. \n",
    "import os\n",
    "# pickle is used to compress and store data. \n",
    "import pickle\n",
    "# pandas is a great package for manipulating data.\n",
    "import pandas as pd\n",
    "# numpy gives you various maths functions.\n",
    "import numpy as np\n",
    "\n",
    "# There's a good reason this package is used to make copies of variables.\n",
    "import copy\n",
    "\n",
    "from sklearn.linear_model import LinearRegression\n",
    "from sklearn.metrics import mean_absolute_error\n",
    "from sklearn.preprocessing import PolynomialFeatures\n",
    "\n",
    "# We will use a scaler to ensure that all the inputs are of roughly the same order of magnitude. \n",
    "# This does not make much of a difference when you fit regression models like we did above,\n",
    "# since the magnitudes of the coefficients match those of the features to produce the correct\n",
    "# magnitude of output. \n",
    "# However, we need it here to demonstrate sensitivity and uncertainty.\n",
    "from sklearn.preprocessing import StandardScaler\n",
    "\n",
    "# Plotting modules.\n",
    "import matplotlib.pyplot as plt\n",
    "# import seaborn as sns\n",
    "\n",
    "# Get inline graphs .\n",
    "%matplotlib inline\n",
    "\n",
    "# Only useful for debugging, when you \n",
    "# need to reload external modules.\n",
    "from importlib import reload\n",
    "\n",
    "# Enable xkcd mode - if you're a nerd.\n",
    "# plt.xkcd()\n",
    "\n",
    "# Import a custom read-write function for weather files.\n",
    "import wfileio as wf\n",
    "\n",
    "# import small helpers I've written.\n",
    "from petites import circ_rolling_mean\n",
    "from petites import smoother\n",
    "\n",
    "# Import an awesome colour palette. Call it colours.\n",
    "import default_colours as colours\n",
    "\n",
    "# Set the random seed to a specific value so\n",
    "# the experiment is repeatable.\n",
    "# See  https://en.wikipedia.org/wiki/Random_seed  for more information on what this means.\n",
    "# For why I chose 42, read The Hitchhiker's Guide to the Galaxy.\n",
    "np.random.seed(42)"
   ]
  },
  {
   "cell_type": "markdown",
   "metadata": {},
   "source": [
    "<h2> Black Box Models </h2>\n",
    "\n",
    "A black-box model is any model (mathematical relationship) that can only be viewed in terms of its inputs and outputs. That is, we cannot \"see\" the inner workings or relationships that result in certain inputs giving certain outputs. It can be used to represent a physical system if sufficient data is available to characterise the relationship between the inputs and outputs of that system. In building simulation, for example, a black-box model could relate outside temperature to heating demand without any indication of <i>how</i> that demand is generated physically, i.e., without solving the equations of heat transfer.  \n",
    "\n",
    "For this workshop, we will use <kbd>scikit-learn</kbd> (use the alias <kbd>sklearn</kbd> when installing with <kbd>pip</kbd> or <kbd>conda</kbd>), a library in python, to fit models to data obtained from energy plus simulations.  \n",
    "\n",
    "<h2>Exercises</h2>\n",
    "\n",
    "We will do two exercises, each linked to a different type of uncertainty: \n",
    "\n",
    "<ol>\n",
    "<li> Epistemic uncertainty: fixed inputs, random coefficients. \n",
    "<li> Aleatory uncertainty: random inputs, fixed coefficients.\n",
    "</ol>"
   ]
  },
  {
   "cell_type": "code",
   "execution_count": 2,
   "metadata": {},
   "outputs": [],
   "source": [
    "# Load data from energyplus simulations.\n",
    "\n",
    "path_data = '../sim_data/SummaryTable_BaseSimulation.csv'\n",
    "\n",
    "df_eplus = pd.read_csv(path_data)\n",
    "\n",
    "# Drop rows that contain infinity, negative infinity, NaN values.\n",
    "df_eplus = df_eplus.dropna(how='any', axis='index')"
   ]
  },
  {
   "cell_type": "markdown",
   "metadata": {},
   "source": [
    "<h2> Uncertainty quantification - demonstration </h2>\n",
    "\n",
    "Now that we have demonstrated regression models, let's use them to explore the quantification of uncertainty. To do that, let's pick one building and climate from the dataset. I will select the large office building and Geneva,\n",
    "since I have the most simulations from this combination.\n",
    "\n",
    "We will pretend that the data we have at hand represents a real design problem. \n",
    "\n",
    "Remember that, in our exercises, the coefficients of the regression equation represent the magnitude of effect each input or property has on the output. The regression inputs are varying values of building properties (e.g., internal heat gain) and boundary conditions (e.g., weather). Once the building's properties are fixed, variation in the boundary conditions creates variation in energy and other outputs of interest (like indoor temperature). During design, however, it makes sense to test each building property over many boundary conditions to ensure that performance is as expected."
   ]
  },
  {
   "cell_type": "code",
   "execution_count": 3,
   "metadata": {},
   "outputs": [
    {
     "name": "stdout",
     "output_type": "stream",
     "text": [
      "['GEN']\n",
      "['D101C00']\n",
      "Size:  (652, 45)\n"
     ]
    }
   ],
   "source": [
    "# Select the relevant rows using two logical statements connected with an AND statement.\n",
    "gen_office = df_eplus.loc[\n",
    "    np.logical_and(df_eplus.loc[:, 'idfname']=='D101C00', df_eplus.loc[:, 'wthrfolder']=='GEN'), :]\n",
    "\n",
    "# Let's see if the selection worked.\n",
    "# These statements should give you only one output each:\n",
    "# 'GEN' for Geneva and...\n",
    "print(gen_office.loc[:, 'wthrfolder'].unique())\n",
    "# D101C00 for the building name (idfname).\n",
    "print(gen_office.loc[:, 'idfname'].unique())\n",
    "\n",
    "# Resulting size.\n",
    "print('Size: ', gen_office.shape)"
   ]
  },
  {
   "cell_type": "code",
   "execution_count": 4,
   "metadata": {},
   "outputs": [
    {
     "name": "stdout",
     "output_type": "stream",
     "text": [
      "                 hdd           cdd        sumihg    suminfloss    suminfgain\n",
      "count   88242.000000  88242.000000  88242.000000  88242.000000  88242.000000\n",
      "mean    53391.356429  18273.986647      1.132923     -0.211768      0.011458\n",
      "std     20419.626463   9047.317223      1.462164      0.244252      0.027552\n",
      "min      9617.200000    424.800000      0.044526     -2.325690      0.000000\n",
      "25%     41588.200000  11824.100000      0.230182     -0.277302      0.001062\n",
      "50%     50393.500000  16829.400000      0.569135     -0.136204      0.003317\n",
      "75%     62422.700000  24008.700000      1.015783     -0.051681      0.009469\n",
      "max    159906.300000  54722.600000      5.236709     -0.000159      0.427041\n"
     ]
    }
   ],
   "source": [
    "# Work with a reduced set of independent variables (inputs, x).\n",
    "selected_xvars = ['hdd', 'cdd', 'sumihg', 'suminfloss', 'suminfgain']\n",
    "# Sums are in GWh. DD are in count.\n",
    "\n",
    "# Select only these columns as training data.\n",
    "x_train = df_eplus.loc[:, selected_xvars]\n",
    "# No test samples in this case.\n",
    "y_train = df_eplus.loc[:, ['heatnorm', 'coolnorm']]\n",
    "\n",
    "print(x_train.describe())"
   ]
  },
  {
   "cell_type": "code",
   "execution_count": 5,
   "metadata": {},
   "outputs": [
    {
     "name": "stdout",
     "output_type": "stream",
     "text": [
      "{'heat': 0.0, 'cool': 0.0}\n",
      "{'heat': 1650.0, 'cool': 350.0}\n"
     ]
    }
   ],
   "source": [
    "# Same plotting function as before.\n",
    "\n",
    "# Define min and max to set pretty axis limits.\n",
    "axmin = dict(heat=y_train['heatnorm'].min().round(-1),\n",
    "             cool=y_train['coolnorm'].min().round(-1))\n",
    "axmax = dict(heat=y_train['heatnorm'].max().round(-1),\n",
    "             cool=y_train['coolnorm'].max().round(-1))\n",
    "bins = dict(heat=np.linspace(-100, 100, num=25),\n",
    "            cool=np.linspace(-100, 100, num=25))\n",
    "\n",
    "print(axmin)\n",
    "print(axmax)\n",
    "# print(bins)\n",
    "\n",
    "def plot_predictions(y_test, y_pred, y_train):\n",
    "\n",
    "    fig, axes = plt.subplots(nrows=2, ncols=2, figsize=(14, 12)) \n",
    "    ax = axes.flatten()\n",
    "    fig.tight_layout(pad=3, w_pad=3, h_pad=5)\n",
    "\n",
    "    ax[0].plot(y_test['heatnorm'], y_pred['heatnorm'], color=colours.hotpink, marker='.', linewidth=0)\n",
    "    ax[0].plot(y_test['heatnorm'], np.repeat(y_train['heatnorm'].mean(), y_test.shape[0]),\n",
    "               color=colours.blackest, linewidth=2)\n",
    "    ax[0].set_xlim(axmin['heat'], axmax['heat'])\n",
    "    ax[0].set_ylim(axmin['heat'], axmax['heat'])\n",
    "    ax[0].set_title('Heating')\n",
    "    ax[0].set_xlabel('Simulated (E+) [kWh/$m^2$]')\n",
    "    ax[0].set_ylabel('Predicted (regression) [kWh/$m^2$]')\n",
    "    ax[0].legend({'Mean', 'Model'})\n",
    "\n",
    "    ax[1].plot(y_test['coolnorm'], y_pred['coolnorm'], color=colours.blue, marker='.', linewidth=0)\n",
    "    ax[1].plot(y_test['coolnorm'], np.repeat(y_train['coolnorm'].mean(), y_test.shape[0]),\n",
    "               color=colours.blackest, linewidth=2)\n",
    "    ax[1].set_xlim(axmin['cool'], axmax['cool'])\n",
    "    ax[1].set_ylim(axmin['cool'], axmax['cool'])\n",
    "    ax[1].set_title('Cooling')\n",
    "    ax[1].set_xlabel('Simulated (E+) [kWh/$m^2$]')\n",
    "    ax[1].set_ylabel('Predicted (regression) [kWh/$m^2$]')\n",
    "    ax[1].legend({'Mean', 'Model'})\n",
    "    \n",
    "    ax[2].hist(y_test['heatnorm'] - y_pred['heatnorm'], bins=bins['heat'],\n",
    "               density=False, color=colours.hotpink, alpha=0.5, align='left', rwidth=0.75)\n",
    "    ax[2].set_title('Errors - Heating')\n",
    "    ax[2].set_ylabel('Count')\n",
    "    ax[2].set_xlabel('$\\epsilon$ [kWh/$m^2$]')\n",
    "\n",
    "    ax[3].hist(y_test['coolnorm'] - y_pred['coolnorm'], bins=bins['cool'],\n",
    "               density=False, color=colours.blue, alpha=0.5, align='left', rwidth=0.75)\n",
    "    ax[3].set_title('Errors - Cooling')\n",
    "    ax[3].set_ylabel('Count')\n",
    "    ax[3].set_xlabel('$\\epsilon$ [kWh/$m^2$]')\n"
   ]
  },
  {
   "cell_type": "code",
   "execution_count": 6,
   "metadata": {},
   "outputs": [
    {
     "data": {
      "text/plain": [
       "LinearRegression(copy_X=True, fit_intercept=True, n_jobs=None,\n",
       "         normalize=False)"
      ]
     },
     "execution_count": 6,
     "metadata": {},
     "output_type": "execute_result"
    }
   ],
   "source": [
    "model_poly3_features = PolynomialFeatures(1)\n",
    "\n",
    "scaler_x = StandardScaler()\n",
    "scaler_y = StandardScaler()\n",
    "\n",
    "x_train_scaled = scaler_x.fit_transform(x_train)\n",
    "y_train_scaled = scaler_y.fit_transform(y_train)\n",
    "\n",
    "x_train_trans = model_poly3_features.fit_transform(x_train_scaled)\n",
    "model_poly3_regr = dict(heatnorm=LinearRegression(), coolnorm=LinearRegression())\n",
    "model_poly3_regr['heatnorm'].fit(X=x_train_trans, y=y_train_scaled[:, 0])\n",
    "model_poly3_regr['coolnorm'].fit(X=x_train_trans, y=y_train_scaled[:, 1])"
   ]
  },
  {
   "cell_type": "markdown",
   "metadata": {},
   "source": [
    "<h2>Epistemic Uncertainty </h2>\n",
    "\n",
    "<h3>Random building inputs, fixed boundary conditions</h3>\n"
   ]
  },
  {
   "cell_type": "markdown",
   "metadata": {},
   "source": [
    "<h2>Epistemic Uncertainty </h2>\n",
    "\n",
    "<h3>Random coefficients, fixed inputs</h3>\n",
    "\n",
    "If we use random coefficients to specify the relationship between inputs and output, the resulting equation represents a situation where there is a lack of knowledge about the sensitivity of outputs to the inputs. That is to say, <i>if we don't know the relationships, then they appear random</i>."
   ]
  },
  {
   "cell_type": "code",
   "execution_count": 17,
   "metadata": {},
   "outputs": [],
   "source": [
    "# Epistemic\n",
    "\n",
    "# Imagine we knew nothing about the infiltration gain, except that it could be between 0 and 3 GWh.\n",
    "suminfgain_sample = np.linspace(0, 10, num=x_train.shape[0])\n",
    "\n",
    "# scaler_x1 = StandardScaler()\n",
    "# scaler_y1 = StandardScaler()\n",
    "\n",
    "# Now let us see how our \"design performance\" would be affected by not knowing the infiltration loss precisely.\n",
    "\n",
    "# Copy the original data.\n",
    "x_test1 = copy.copy(x_train)\n",
    "# Change the suminfgain column.\n",
    "x_test1.loc[:, 'suminfgain'] = suminfgain_sample\n",
    "\n",
    "x_test1_scaled = scaler_x.fit_transform(x_test1)\n",
    "x_test_trans = model_poly3_features.fit_transform(x_test1_scaled)\n",
    "\n",
    "y_pred = np.NaN*np.ones([y_train.shape[0], 2]) \n",
    "\n",
    "# for idx, x in enumerate(x_test1_scaled):\n",
    "y_pred[:, 0] = model_poly3_regr['heatnorm'].predict(x_test_trans)\n",
    "y_pred[:, 1] = model_poly3_regr['coolnorm'].predict(x_test_trans)\n",
    "\n",
    "# Inverse the transformation and put the resulting predictions into a dataframe for plotting.\n",
    "y_pred = pd.DataFrame(scaler_y.inverse_transform(y_pred), columns=['heatnorm', 'coolnorm'])"
   ]
  },
  {
   "cell_type": "code",
   "execution_count": 24,
   "metadata": {},
   "outputs": [
    {
     "data": {
      "text/plain": [
       "<matplotlib.legend.Legend at 0x1dfeec68f98>"
      ]
     },
     "execution_count": 24,
     "metadata": {},
     "output_type": "execute_result"
    },
    {
     "data": {
      "image/png": "[encoded data removed]",
      "text/plain": [
       "<Figure size 1008x864 with 4 Axes>"
      ]
     },
     "metadata": {
      "needs_background": "light"
     },
     "output_type": "display_data"
    }
   ],
   "source": [
    "# Set default font properties.\n",
    "font = {'family' : 'sans-serif',\n",
    "        'weight' : 'normal',\n",
    "        'size'   : 16}\n",
    "plt.rc('font', **font)\n",
    "\n",
    "fig, axes = plt.subplots(nrows=2, ncols=2, figsize=(14, 12)) \n",
    "ax = axes.flatten()\n",
    "fig.tight_layout(pad=3, w_pad=3, h_pad=5)\n",
    "\n",
    "ax[0].hist(y_train['heatnorm'], density=True, color=colours.blue, alpha=0.5,\n",
    "           align='left')\n",
    "ax[0].hist(y_pred['heatnorm'], density=True, color=colours.blue, alpha=1,\n",
    "           histtype='step', align='left', linewidth=3)\n",
    "ax[0].set_title('Distributions - Heating')\n",
    "ax[0].set_ylabel('PDF')\n",
    "ax[0].set_xlabel('y [kWh/$m^2$]')\n",
    "\n",
    "ax[1].hist(y_train['coolnorm'], density=True, color=colours.hotpink, alpha=0.5,\n",
    "           align='left')\n",
    "ax[1].hist(y_pred['coolnorm'], density=True, color=colours.hotpink, alpha=1,\n",
    "           histtype='step', align='left', linewidth=3)\n",
    "ax[1].set_title('Distributions - Cooling')\n",
    "ax[1].set_ylabel('PDF')\n",
    "ax[1].set_xlabel('y [kWh/$m^2$]')\n",
    "\n",
    "\n",
    "ax[2].plot(x_test1.loc[:,'suminfgain'], y_pred['coolnorm'], color=colours.blue, marker='.', linewidth=0)\n",
    "ax[2].plot(x_test1.loc[:,'suminfgain'], np.repeat(y_train['coolnorm'].mean(), y_train.shape[0]),\n",
    "           color=colours.blackest, linewidth=2)\n",
    "ax[2].set_xlim(axmin['cool'], axmax['cool'])\n",
    "ax[2].set_ylim(axmin['cool'], axmax['cool'])\n",
    "ax[2].set_title('Cooling')\n",
    "ax[2].set_xlabel('Simulated (E+) [kWh/$m^2$]')\n",
    "ax[2].set_ylabel('Predicted (regression) [kWh/$m^2$]')\n",
    "ax[2].legend({'Mean', 'Model'})"
   ]
  },
  {
   "cell_type": "markdown",
   "metadata": {},
   "source": [
    "<h2> Bibliography </h2>\n",
    "\n",
    "<ul>\n",
    "<li>Rastogi, Parag. 2016. “On the Sensitivity of Buildings to Climate: The Interaction of Weather and Building Envelopes in Determining Future Building Energy Consumption.” PhD, Lausanne, Switzerland: Ecole polytechnique fédérale de Lausanne. EPFL Infoscience. https://infoscience.epfl.ch/record/220971?ln=en.\n",
    "<li>Rastogi, Parag, and Marilyne Andersen. 2015. “Embedding Stochasticity in Building Simulation Through Synthetic Weather Files.” In Proceedings of BS 2015. Hyderabad, India. http://infoscience.epfl.ch/record/208743.\n",
    "<li>———. 2016. “Incorporating Climate Change Predictions in the Analysis of Weather-Based Uncertainty.” In Proceedings of SimBuild 2016. Salt Lake City, UT, USA. http://infoscience.epfl.ch/record/208743.\n",
    "<li>Rastogi, Parag, Mohammad Emtiyaz Khan, and Marilyne Andersen. 2017. “Gaussian-Process-Based Emulators for Building Performance Simulation.” In Proceedings of BS 2017. San Francisco, CA, USA: IBPSA.\n",
    "<li>Iaccarino, Gianluca. 2008. “Quantification of Uncertainty in Flow Simulations Using Probabilistic Methods.” presented at the VKI Lecture Series, Stanford University, September. http://web.stanford.edu/group/uq/uq_youq.html.\n",
    "<li>Macdonald, Iain. 2002. “Quantifying the Effects of Uncertainty in Building Simulation.” Doctoral, University of Strathclyde. https://www.strath.ac.uk/media/departments/mechanicalengineering/esru/research/phdmphilprojects/macdonald_thesis.pdf.\n",
    "\n",
    "</ul>"
   ]
  }
 ],
 "metadata": {
  "kernelspec": {
   "display_name": "Python 3",
   "language": "python",
   "name": "python3"
  },
  "language_info": {
   "codemirror_mode": {
    "name": "ipython",
    "version": 3
   },
   "file_extension": ".py",
   "mimetype": "text/x-python",
   "name": "python",
   "nbconvert_exporter": "python",
   "pygments_lexer": "ipython3",
   "version": "3.7.1"
  }
 },
 "nbformat": 4,
 "nbformat_minor": 2
}
